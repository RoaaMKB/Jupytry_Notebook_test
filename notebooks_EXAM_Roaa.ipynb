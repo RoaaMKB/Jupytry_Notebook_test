{
  "metadata": {
    "language_info": {
      "codemirror_mode": {
        "name": "python",
        "version": 3
      },
      "file_extension": ".py",
      "mimetype": "text/x-python",
      "name": "python",
      "nbconvert_exporter": "python",
      "pygments_lexer": "ipython3",
      "version": "3.8"
    },
    "kernelspec": {
      "name": "python",
      "display_name": "Python (Pyodide)",
      "language": "python"
    }
  },
  "nbformat_minor": 4,
  "nbformat": 4,
  "cells": [
    {
      "cell_type": "markdown",
      "source": "# Jupyter",
      "metadata": {}
    },
    {
      "cell_type": "markdown",
      "source": "in this notebook of the markdown cell",
      "metadata": {}
    },
    {
      "cell_type": "markdown",
      "source": " python is one of the most popular programming languages used across various tech disciplines, especially data science and its subfields.1. data science libraries:\n1. TensorFlow\n2. NumPy\n3. SciPy\n4. Pandas\n5.  Matplotlib \n6. Keras \n7. SciKit-Learn \n8. PyTorch",
      "metadata": {}
    },
    {
      "cell_type": "markdown",
      "source": "we look at some of the top data science programming languages:\n* JAVA\n* Python\n* R\n* SQL",
      "metadata": {}
    },
    {
      "cell_type": "markdown",
      "source": "Numerous tools are available for data science applications:\n| Data | Sceince | Tools |\n| --- | --- | --- |\n| Jupyter Notebook |  R Programming | .Python |",
      "metadata": {}
    },
    {
      "cell_type": "markdown",
      "source": "Jupyter notebooks allow for markdown cells to not only include markdown but also include mathematics",
      "metadata": {}
    },
    {
      "cell_type": "markdown",
      "source": "$a-b$*$\\frac{a}{b}$",
      "metadata": {}
    },
    {
      "cell_type": "code",
      "source": "2*2+2",
      "metadata": {
        "trusted": true
      },
      "execution_count": 2,
      "outputs": [
        {
          "execution_count": 2,
          "output_type": "execute_result",
          "data": {
            "text/plain": "6"
          },
          "metadata": {}
        }
      ]
    },
    {
      "cell_type": "code",
      "source": "m=120\nh = m / 60\nprint (h)",
      "metadata": {
        "trusted": true
      },
      "execution_count": 10,
      "outputs": [
        {
          "name": "stdout",
          "text": "2.0\n",
          "output_type": "stream"
        }
      ]
    },
    {
      "cell_type": "code",
      "source": "",
      "metadata": {
        "trusted": true
      },
      "execution_count": 9,
      "outputs": []
    },
    {
      "cell_type": "markdown",
      "source": "Make text bold by adding two asterisks on each end. Make text italic with a single asterisk or a single underscore on each end.\n+ **BOLD**\n+ *ITALIC*\n+ NORMAL\n",
      "metadata": {}
    },
    {
      "cell_type": "markdown",
      "source": "author:\n  - John Doe, Institution One\n  - Jane Doe, Institution Two",
      "metadata": {}
    },
    {
      "cell_type": "markdown",
      "source": "title: \"Distill for R Markdown\"\nauthor:\n  - name: \"JJ Allaire\"\n    url: https://github.com/jjallaire\n    affiliation: RStudio\n    affiliation_url: https://www.rstudio.com\noutput: distill::distill_article",
      "metadata": {}
    },
    {
      "cell_type": "code",
      "source": "",
      "metadata": {},
      "execution_count": null,
      "outputs": []
    }
  ]
}